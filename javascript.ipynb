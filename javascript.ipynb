{
 "cells": [
  {
   "cell_type": "markdown",
   "metadata": {},
   "source": [
    "# Javascript sorting \n"
   ]
  },
  {
   "cell_type": "markdown",
   "metadata": {},
   "source": [
    "in this exaple array elements placed in assending order.\n",
    "if \"a\" value less than \"b\" and it returns \"-1\" this means if 3 is less than 2 and \n",
    "it returns 2 and after 3 ,and this process is continous  until the elements placed in assending order"
   ]
  },
  {
   "cell_type": "code",
   "execution_count": 30,
   "metadata": {},
   "outputs": [
    {
     "data": {
      "application/javascript": [
       "let users=[3,1,2]\n",
       "users.sort(function(a,b){\n",
       "    if(a<b){\n",
       "        return -1;\n",
       "    }\n",
       "})\n",
       "element.text(users)\n"
      ],
      "text/plain": [
       "<IPython.core.display.Javascript object>"
      ]
     },
     "metadata": {},
     "output_type": "display_data"
    }
   ],
   "source": [
    "%%js\n",
    "let users=[3,1,2]\n",
    "users.sort(function(a,b){\n",
    "    if(a<b){\n",
    "        return -1;\n",
    "    }\n",
    "})\n",
    "element.text(users)"
   ]
  },
  {
   "cell_type": "markdown",
   "metadata": {},
   "source": [
    "# java script classes"
   ]
  },
  {
   "cell_type": "markdown",
   "metadata": {},
   "source": [
    "In this example constructor method is used to construct user \"name\" & \"id\",and we write user \"name\" and his \"id\" in \"new\" method if we want to fetch that value then we must decalre \"value\" by \"const\" and that value placed before \"name\" and \"id\" like \"value.name\" and \"value.id\""
   ]
  },
  {
   "cell_type": "code",
   "execution_count": 19,
   "metadata": {},
   "outputs": [
    {
     "data": {
      "application/javascript": [
       "class Users{\n",
       "    constructor(name,id){\n",
       "        this.name=name;\n",
       "        this.id=id\n",
       "    }\n",
       "}\n",
       "const user=new Users('venkatahari','1')\n",
       "const x=user.name+\" \"+user.id\n",
       "element.text(x)\n"
      ],
      "text/plain": [
       "<IPython.core.display.Javascript object>"
      ]
     },
     "metadata": {},
     "output_type": "display_data"
    }
   ],
   "source": [
    "%%js\n",
    "class Users{\n",
    "    constructor(name,id){\n",
    "        this.name=name;\n",
    "        this.id=id\n",
    "    }\n",
    "}\n",
    "const user=new Users('venkatahari','1')\n",
    "const x=user.name+\" \"+user.id\n",
    "element.text(x)\n"
   ]
  },
  {
   "cell_type": "markdown",
   "metadata": {},
   "source": [
    "# Arrow Functions"
   ]
  },
  {
   "cell_type": "code",
   "execution_count": 14,
   "metadata": {},
   "outputs": [
    {
     "data": {
      "application/javascript": [
       "const ask = (question, yes, no) => (confirm(question) ? yes() : no());\n",
       "ask(\n",
       "  'Do you agree?',\n",
       "  () => element.text('You agreed.'),\n",
       "  () => element.text('You canceled the execution.')\n",
       ");\n"
      ],
      "text/plain": [
       "<IPython.core.display.Javascript object>"
      ]
     },
     "metadata": {},
     "output_type": "display_data"
    }
   ],
   "source": [
    "%%js\n",
    "const ask = (question, yes, no) => (confirm(question) ? yes() : no());\n",
    "ask(\n",
    "  'Do you agree?',\n",
    "  () => element.text('You agreed.'),\n",
    "  () => element.text('You canceled the execution.')\n",
    ");"
   ]
  },
  {
   "cell_type": "markdown",
   "metadata": {},
   "source": [
    "# Call Back Functions"
   ]
  },
  {
   "cell_type": "markdown",
   "metadata": {},
   "source": [
    "Example1"
   ]
  },
  {
   "cell_type": "code",
   "execution_count": 63,
   "metadata": {},
   "outputs": [
    {
     "data": {
      "application/javascript": [
       "function c1(output){\n",
       "    element.text(output)\n",
       "}\n",
       "function c2(num1,num2,total){\n",
       "    let sum=num1+num2\n",
       "    total(sum)\n",
       "}\n",
       "c2(3,13,c1)\n"
      ],
      "text/plain": [
       "<IPython.core.display.Javascript object>"
      ]
     },
     "metadata": {},
     "output_type": "display_data"
    }
   ],
   "source": [
    "%%js\n",
    "\n",
    "function c1(output){\n",
    "    element.text(output)\n",
    "}\n",
    "function c2(num1,num2,total){\n",
    "    let sum=num1+num2\n",
    "    total(sum)\n",
    "}\n",
    "c2(3,13,c1)"
   ]
  },
  {
   "cell_type": "markdown",
   "metadata": {},
   "source": [
    "Example2"
   ]
  },
  {
   "cell_type": "code",
   "execution_count": 74,
   "metadata": {},
   "outputs": [
    {
     "data": {
      "application/javascript": [
       "function c1(output){\n",
       "    element.text(output)\n",
       "}\n",
       "function c2(num1,num2){\n",
       "    let sum=num1+num2\n",
       "    c1(sum)\n",
       "}\n",
       "c2(3,13)\n"
      ],
      "text/plain": [
       "<IPython.core.display.Javascript object>"
      ]
     },
     "metadata": {},
     "output_type": "display_data"
    }
   ],
   "source": [
    "%%js\n",
    "function c1(output){\n",
    "    element.text(output)\n",
    "}\n",
    "function c2(num1,num2){\n",
    "    let sum=num1+num2\n",
    "    c1(sum)\n",
    "}\n",
    "c2(3,13)"
   ]
  },
  {
   "cell_type": "markdown",
   "metadata": {},
   "source": [
    "# Switch Case Statement"
   ]
  },
  {
   "cell_type": "code",
   "execution_count": 25,
   "metadata": {},
   "outputs": [
    {
     "data": {
      "application/javascript": [
       "var marks=+prompt('enter your marks')\n",
       "switch(true){\n",
       "    case (marks<35):\n",
       "        element.text(\"fail\")\n",
       "        break;\n",
       "    case (marks<=50 && marks>=35):\n",
       "        element.text(\"C Grade\")\n",
       "        break;\n",
       "    case(marks>=50&&marks<70):\n",
       "        element.text(\"B grade\")\n",
       "        break;\n",
       "    case(marks>=70&&marks<=90):\n",
       "        element.text(\"A Grade\")\n",
       "        break;\n",
       "    case(marks>=90&&marks<=100):\n",
       "        element.text(\"Distinction\")\n",
       "        break;              \n",
       "    default:\n",
       "        element.text(\"error\")\n",
       "        break;    \n",
       "}\n"
      ],
      "text/plain": [
       "<IPython.core.display.Javascript object>"
      ]
     },
     "metadata": {},
     "output_type": "display_data"
    }
   ],
   "source": [
    "%%js\n",
    "var marks=+prompt('enter your marks')\n",
    "switch(true){\n",
    "    case (marks<35):\n",
    "        element.text(\"fail\")\n",
    "        break;\n",
    "    case (marks<=50 && marks>=35):\n",
    "        element.text(\"C Grade\")\n",
    "        break;\n",
    "    case(marks>=50&&marks<70):\n",
    "        element.text(\"B grade\")\n",
    "        break;\n",
    "    case(marks>=70&&marks<=90):\n",
    "        element.text(\"A Grade\")\n",
    "        break;\n",
    "    case(marks>=90&&marks<=100):\n",
    "        element.text(\"Distinction\")\n",
    "        break;              \n",
    "    default:\n",
    "        element.text(\"error\")\n",
    "        break;    \n",
    "}\n"
   ]
  },
  {
   "cell_type": "markdown",
   "metadata": {},
   "source": [
    "example 2"
   ]
  },
  {
   "cell_type": "code",
   "execution_count": 28,
   "metadata": {},
   "outputs": [
    {
     "data": {
      "text/html": [
       " <button onclick=\"btn1()\">pre</button>\n",
       "    <button onclick=\"btn()\">next</button>\n",
       "    <div id='id'>h1</div>\n",
       "    <script> \n",
       "    \n",
       "function btn(){\n",
       "var x=document.getElementById('id')\n",
       "switch(true){\n",
       "    case ( x.innerHTML==\"h1\"):\n",
       "        x.innerHTML=\"h2\"\n",
       "        break;\n",
       "    case(x.innerHTML==\"h2\"):\n",
       "         x.innerHTML=\"h3\"\n",
       "         break;\n",
       "    case(x.innerHTML==\"h3\"):\n",
       "         x.innerHTML=\"h1\"\n",
       "         break;                    \n",
       "    default:\n",
       "        x.innerHTML=\"error\"\n",
       "        break;    \n",
       "}\n",
       "}\n",
       "\n",
       "\n",
       "function btn1(){\n",
       "    var x=document.getElementById('id')\n",
       "    switch(true){\n",
       "        case (x.innerHTML==\"h1\"):\n",
       "            x.innerHTML=\"h3\"\n",
       "            break;\n",
       "        case(x.innerHTML==\"h3\"):\n",
       "             x.innerHTML=\"h2\"\n",
       "             break;\n",
       "        case(x.innerHTML==\"h2\"):\n",
       "             x.innerHTML=\"h1\"\n",
       "             break;                    \n",
       "        default:\n",
       "            x.innerHTML=\"error\"\n",
       "            break;    \n",
       "    }\n",
       "    }\n",
       "    </script>\n"
      ],
      "text/plain": [
       "<IPython.core.display.HTML object>"
      ]
     },
     "metadata": {},
     "output_type": "display_data"
    }
   ],
   "source": [
    "%%html\n",
    " <button onclick=\"btn1()\">pre</button>\n",
    "    <button onclick=\"btn()\">next</button>\n",
    "    <div id='id'>h1</div>\n",
    "    <script> \n",
    "    \n",
    "function btn(){\n",
    "var x=document.getElementById('id')\n",
    "switch(true){\n",
    "    case ( x.innerHTML==\"h1\"):\n",
    "        x.innerHTML=\"h2\"\n",
    "        break;\n",
    "    case(x.innerHTML==\"h2\"):\n",
    "         x.innerHTML=\"h3\"\n",
    "         break;\n",
    "    case(x.innerHTML==\"h3\"):\n",
    "         x.innerHTML=\"h1\"\n",
    "         break;                    \n",
    "    default:\n",
    "        x.innerHTML=\"error\"\n",
    "        break;    \n",
    "}\n",
    "}\n",
    "\n",
    "\n",
    "function btn1(){\n",
    "    var x=document.getElementById('id')\n",
    "    switch(true){\n",
    "        case (x.innerHTML==\"h1\"):\n",
    "            x.innerHTML=\"h3\"\n",
    "            break;\n",
    "        case(x.innerHTML==\"h3\"):\n",
    "             x.innerHTML=\"h2\"\n",
    "             break;\n",
    "        case(x.innerHTML==\"h2\"):\n",
    "             x.innerHTML=\"h1\"\n",
    "             break;                    \n",
    "        default:\n",
    "            x.innerHTML=\"error\"\n",
    "            break;    \n",
    "    }\n",
    "    }\n",
    "    </script>"
   ]
  },
  {
   "cell_type": "markdown",
   "metadata": {},
   "source": [
    "# While Loop Array"
   ]
  },
  {
   "cell_type": "code",
   "execution_count": 23,
   "metadata": {},
   "outputs": [
    {
     "data": {
      "application/javascript": [
       "var output=[]\n",
       "var i=0\n",
       "while(i<=10){\n",
       "   output.push(i)\n",
       "     i++\n",
       "}\n",
       " element.text(output)\n"
      ],
      "text/plain": [
       "<IPython.core.display.Javascript object>"
      ]
     },
     "metadata": {},
     "output_type": "display_data"
    }
   ],
   "source": [
    "%%js\n",
    "var output=[]\n",
    "var i=0\n",
    "while(i<=10){\n",
    "   output.push(i)\n",
    "     i++\n",
    "}\n",
    " element.text(output)\n"
   ]
  },
  {
   "cell_type": "markdown",
   "metadata": {},
   "source": [
    "# For Loop Array"
   ]
  },
  {
   "cell_type": "code",
   "execution_count": 8,
   "metadata": {},
   "outputs": [
    {
     "data": {
      "application/javascript": [
       "var result=[]\n",
       "for(let i=0;i<=10;i++){\n",
       "result.push(i)\n",
       "}\n",
       "element.text(result)\n"
      ],
      "text/plain": [
       "<IPython.core.display.Javascript object>"
      ]
     },
     "metadata": {},
     "output_type": "display_data"
    }
   ],
   "source": [
    "%%js\n",
    "var result=[]\n",
    "for(let i=0;i<=10;i++){\n",
    "result.push(i)\n",
    "}\n",
    "element.text(result)"
   ]
  },
  {
   "cell_type": "markdown",
   "metadata": {},
   "source": [
    "# Data Types"
   ]
  },
  {
   "cell_type": "markdown",
   "metadata": {},
   "source": [
    "number,string,boolean,undefined"
   ]
  },
  {
   "cell_type": "code",
   "execution_count": 39,
   "metadata": {},
   "outputs": [
    {
     "data": {
      "application/javascript": [
       "var a\n",
       "element.text(typeof a)\n"
      ],
      "text/plain": [
       "<IPython.core.display.Javascript object>"
      ]
     },
     "metadata": {},
     "output_type": "display_data"
    }
   ],
   "source": [
    "%%js\n",
    "var a\n",
    "element.text(typeof a)"
   ]
  },
  {
   "cell_type": "code",
   "execution_count": 49,
   "metadata": {},
   "outputs": [
    {
     "data": {
      "application/javascript": [
       "function user(string){\n",
       "    element.text(string)\n",
       "}\n",
       "user('venkatahari')\n"
      ],
      "text/plain": [
       "<IPython.core.display.Javascript object>"
      ]
     },
     "metadata": {},
     "output_type": "display_data"
    }
   ],
   "source": [
    "%%js\n",
    "function user(string){\n",
    "    element.text(string)\n",
    "}\n",
    "user('venkatahari')"
   ]
  },
  {
   "cell_type": "code",
   "execution_count": 55,
   "metadata": {},
   "outputs": [
    {
     "data": {
      "application/javascript": [
       "function user(string){\n",
       "   return string+ 'Hari'\n",
       "}\n",
       "const output= user('Venkata ')\n",
       "element.text(output)\n"
      ],
      "text/plain": [
       "<IPython.core.display.Javascript object>"
      ]
     },
     "metadata": {},
     "output_type": "display_data"
    }
   ],
   "source": [
    "%%js\n",
    "function user(string){\n",
    "   return string+ 'Hari'\n",
    "}\n",
    "const output= user('Venkata ')\n",
    "element.text(output)"
   ]
  },
  {
   "cell_type": "markdown",
   "metadata": {},
   "source": [
    "# For Of"
   ]
  },
  {
   "cell_type": "code",
   "execution_count": 60,
   "metadata": {},
   "outputs": [
    {
     "data": {
      "application/javascript": [
       "var array=[1,2,3,4,5,6,7,8,9,10]\n",
       "var result=[]\n",
       "for(const b of array){\n",
       "    result.push(b)\n",
       "   element.text(result) \n",
       "}\n"
      ],
      "text/plain": [
       "<IPython.core.display.Javascript object>"
      ]
     },
     "metadata": {},
     "output_type": "display_data"
    }
   ],
   "source": [
    "%%js\n",
    "var array=[1,2,3,4,5,6,7,8,9,10]\n",
    "var result=[]\n",
    "for(const b of array){\n",
    "    result.push(b)\n",
    "   element.text(result) \n",
    "}"
   ]
  },
  {
   "cell_type": "code",
   "execution_count": 73,
   "metadata": {},
   "outputs": [
    {
     "data": {
      "application/javascript": [
       "function user(name,age){\n",
       "    element.text(name+\": \"+age)\n",
       "}\n",
       "user('hari',  '24')\n"
      ],
      "text/plain": [
       "<IPython.core.display.Javascript object>"
      ]
     },
     "metadata": {},
     "output_type": "display_data"
    }
   ],
   "source": [
    "%%js\n",
    "function user(name,age){\n",
    "    element.text(name+\": \"+age)\n",
    "}\n",
    "user('hari',  '24')"
   ]
  },
  {
   "cell_type": "markdown",
   "metadata": {},
   "source": [
    "# Rest Operator"
   ]
  },
  {
   "cell_type": "code",
   "execution_count": 85,
   "metadata": {},
   "outputs": [
    {
     "data": {
      "application/javascript": [
       "function user(name,...remaining){\n",
       "    element.text(name+\",\"+remaining)\n",
       "}\n",
       "user('a','b','c','d','f','g','h')\n"
      ],
      "text/plain": [
       "<IPython.core.display.Javascript object>"
      ]
     },
     "metadata": {},
     "output_type": "display_data"
    }
   ],
   "source": [
    "%%js\n",
    "function user(name,...remaining){\n",
    "    element.text(name+\",\"+remaining)\n",
    "}\n",
    "user('a','b','c','d','f','g','h')"
   ]
  },
  {
   "cell_type": "markdown",
   "metadata": {},
   "source": [
    "# Spread Operator"
   ]
  },
  {
   "cell_type": "code",
   "execution_count": null,
   "metadata": {},
   "outputs": [],
   "source": []
  }
 ],
 "metadata": {
  "kernelspec": {
   "display_name": "Python 3 (ipykernel)",
   "language": "python",
   "name": "python3"
  },
  "language_info": {
   "codemirror_mode": {
    "name": "ipython",
    "version": 3
   },
   "file_extension": ".py",
   "mimetype": "text/x-python",
   "name": "python",
   "nbconvert_exporter": "python",
   "pygments_lexer": "ipython3",
   "version": "3.9.12"
  }
 },
 "nbformat": 4,
 "nbformat_minor": 2
}
